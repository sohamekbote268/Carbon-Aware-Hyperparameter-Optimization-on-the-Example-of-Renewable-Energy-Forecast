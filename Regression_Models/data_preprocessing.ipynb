{
 "cells": [
  {
   "cell_type": "code",
   "execution_count": 7,
   "id": "bdd1bb16",
   "metadata": {},
   "outputs": [],
   "source": [
    "import pandas as pd\n",
    "\n",
    "# Read the two Excel sheets into pandas DataFrames\n",
    "df2 = pd.read_excel(r'C:\\Users\\soham\\Soham Master Thesis\\Datasets\\Generated_datasets_for_Regressor_Model\\carbon_intensity_data.xlsx')\n",
    "df1 = pd.read_excel(r'C:\\Users\\soham\\Soham Master Thesis\\Datasets\\Generated_time_series_data\\all_features_output_low_carbon.xlsx')\n",
    "\n",
    "# Merge the DataFrames horizontally based on the \"Country_Code\" column\n",
    "merged_df = pd.merge(df1, df2, on='Country_Code', how='inner')\n",
    "\n",
    "# Remove any duplicate rows\n",
    "merged_df = merged_df.drop_duplicates()\n",
    "\n",
    "columns_to_remove = [\n",
    "'MAE','RMSE', 'MAPE'\n",
    "]\n",
    "\n",
    "# Remove the specified columns\n",
    "merged_df = merged_df.drop(columns=columns_to_remove)\n",
    "\n",
    "# Save the merged DataFrame to a new Excel file\n",
    "merged_df.to_excel(r'C:\\Users\\soham\\Soham Master Thesis\\Datasets\\Generated_datasets_for_Regressor_Model\\carbon_intensity_data_merged.xlsx', index=False)\n"
   ]
  },
  {
   "cell_type": "code",
   "execution_count": 8,
   "id": "902a13d5",
   "metadata": {},
   "outputs": [],
   "source": [
    "#FINAL CODE FOR PERCENTAGE RENEWABLE\n",
    "\n",
    "import pandas as pd\n",
    "\n",
    "# Read the two Excel sheets into pandas DataFrames\n",
    "df2 = pd.read_excel(r'C:\\Users\\soham\\Soham Master Thesis\\Datasets\\Generated_datasets_for_Regressor_Model\\percentage_renewable_data.xlsx')\n",
    "df1 = pd.read_excel(r'C:\\Users\\soham\\Soham Master Thesis\\Datasets\\Generated_time_series_data\\all_features_output_percent_renewable.xlsx')\n",
    "\n",
    "# Merge the DataFrames horizontally based on the \"Country_Code\" column\n",
    "merged_df = pd.merge(df1, df2, on='Country_Code', how='inner')\n",
    "\n",
    "# Remove any duplicate rows\n",
    "merged_df = merged_df.drop_duplicates()\n",
    "\n",
    "columns_to_remove = [\n",
    "'MAE','RMSE', 'MAPE'\n",
    "]\n",
    "\n",
    "# Remove the specified columns\n",
    "merged_df = merged_df.drop(columns=columns_to_remove)\n",
    "merged_df = merged_df[merged_df['Sequence Length'] <= 60]\n",
    "merged_df = merged_df[merged_df['MSE'] <= 400]\n",
    "\n",
    "#elements_to_remove = [\"BE\", \"BG\", \"FI\", \"FR\", \"GR\",\"EE\",\"HR\",\"LU\",\"HU\"]\n",
    "#merged_df = merged_df[~merged_df['Country_Code'].isin(elements_to_remove)]\n",
    "\n",
    "# Save the merged DataFrame to a new Excel file\n",
    "merged_df.to_excel(r'C:\\Users\\soham\\Soham Master Thesis\\Datasets\\Generated_datasets_for_Regressor_Model\\percentage_renwable_data_merged.xlsx', index=False)\n"
   ]
  },
  {
   "cell_type": "code",
   "execution_count": 9,
   "id": "5e28e124",
   "metadata": {},
   "outputs": [
    {
     "name": "stdout",
     "output_type": "stream",
     "text": [
      "Extra columns in C:\\Users\\soham\\Soham Master Thesis\\Datasets\\Generated_datasets_for_Regressor_Model\\percentage_renwable_data_merged.xlsx : set()\n",
      "Extra columns in C:\\Users\\soham\\Soham Master Thesis\\Datasets\\Generated_datasets_for_Regressor_Model\\carbon_intensity_data_merged.xlsx : set()\n"
     ]
    }
   ],
   "source": [
    "import pandas as pd\n",
    "\n",
    "# Load the Excel files into DataFrames\n",
    "file1_path = r'C:\\Users\\soham\\Soham Master Thesis\\Datasets\\Generated_datasets_for_Regressor_Model\\percentage_renwable_data_merged.xlsx'\n",
    "file2_path = r'C:\\Users\\soham\\Soham Master Thesis\\Datasets\\Generated_datasets_for_Regressor_Model\\carbon_intensity_data_merged.xlsx'\n",
    "df1 = pd.read_excel(file1_path, engine='openpyxl')\n",
    "df2 = pd.read_excel(file2_path, engine='openpyxl')\n",
    "\n",
    "# Get the list of columns from both DataFrames\n",
    "columns_df1 = set(df1.columns)\n",
    "columns_df2 = set(df2.columns)\n",
    "\n",
    "# Find extra columns in each DataFrame\n",
    "extra_columns_df1 = columns_df1 - columns_df2\n",
    "extra_columns_df2 = columns_df2 - columns_df1\n",
    "\n",
    "# Print or store the extra columns found in each DataFrame\n",
    "print(\"Extra columns in\", file1_path, \":\", extra_columns_df1)\n",
    "print(\"Extra columns in\", file2_path, \":\", extra_columns_df2)\n"
   ]
  },
  {
   "cell_type": "code",
   "execution_count": 10,
   "id": "c0e95579",
   "metadata": {},
   "outputs": [],
   "source": [
    "import pandas as pd\n",
    "\n",
    "def merge_excel_files_vertically(file1_path, file2_path, output_file_path):\n",
    "    \"\"\"\n",
    "    Merge two Excel files vertically and save the result to a new Excel file.\n",
    "\n",
    "    Parameters:\n",
    "        file1_path (str): Path to the first Excel file.\n",
    "        file2_path (str): Path to the second Excel file.\n",
    "        output_file_path (str): Path to save the merged Excel file.\n",
    "\n",
    "    Returns:\n",
    "        None\n",
    "    \"\"\"\n",
    "    # Read both Excel files\n",
    "    df1 = pd.read_excel(file1_path)\n",
    "    df2 = pd.read_excel(file2_path)\n",
    "\n",
    "    # Concatenate vertically\n",
    "    merged_df = pd.concat([df1, df2], axis=0)\n",
    "\n",
    "    # Save the merged DataFrame to a new Excel file\n",
    "    merged_df.to_excel(output_file_path, index=False)\n",
    "\n",
    "# Example usage\n",
    "file1_path = r'C:\\Users\\soham\\Soham Master Thesis\\Datasets\\Generated_datasets_for_Regressor_Model\\percentage_renwable_data_merged.xlsx'\n",
    "file2_path = r'C:\\Users\\soham\\Soham Master Thesis\\Datasets\\Generated_datasets_for_Regressor_Model\\carbon_intensity_data_merged.xlsx'\n",
    "output_file_path = r'C:\\Users\\soham\\Soham Master Thesis\\Datasets\\Generated_datasets_for_Regressor_Model\\merged_data.xlsx'\n",
    "\n",
    "merge_excel_files_vertically(file1_path, file2_path, output_file_path)\n"
   ]
  }
 ],
 "metadata": {
  "kernelspec": {
   "display_name": "Python 3 (ipykernel)",
   "language": "python",
   "name": "python3"
  },
  "language_info": {
   "codemirror_mode": {
    "name": "ipython",
    "version": 3
   },
   "file_extension": ".py",
   "mimetype": "text/x-python",
   "name": "python",
   "nbconvert_exporter": "python",
   "pygments_lexer": "ipython3",
   "version": "3.9.16"
  }
 },
 "nbformat": 4,
 "nbformat_minor": 5
}
